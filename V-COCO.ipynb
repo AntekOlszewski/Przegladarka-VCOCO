{
 "cells": [
  {
   "cell_type": "code",
   "execution_count": 1,
   "metadata": {
    "collapsed": false,
    "jupyter": {
     "outputs_hidden": false
    }
   },
   "outputs": [
    {
     "name": "stdout",
     "output_type": "stream",
     "text": [
      "added C:\\Users\\antek\\Desktop\\v-coco\\coco\\PythonAPI to pythonpath\n"
     ]
    }
   ],
   "source": [
    "import __init__\n",
    "import vsrl_utils as vu\n",
    "import numpy as np\n",
    "\n",
    "%matplotlib inline\n",
    "import matplotlib\n",
    "import matplotlib.pyplot as plt"
   ]
  },
  {
   "cell_type": "code",
   "execution_count": 2,
   "metadata": {
    "tags": []
   },
   "outputs": [],
   "source": [
    "def draw_bbox(plt, ax, rois, fill=False, linewidth=2, edgecolor=[1.0, 0.0, 0.0], **kwargs):\n",
    "    for i in range(rois.shape[0]):\n",
    "        roi = rois[i,:].astype(int)\n",
    "        ax.add_patch(plt.Rectangle((roi[0], roi[1]),\n",
    "            roi[2] - roi[0], roi[3] - roi[1],\n",
    "            fill=False, linewidth=linewidth, edgecolor=edgecolor, **kwargs))\n",
    "\n",
    "def subplot(plt, xxx_todo_changeme, xxx_todo_changeme1 = (10, 10)):\n",
    "    (Y, X) = xxx_todo_changeme\n",
    "    (sz_y, sz_x) = xxx_todo_changeme1\n",
    "    plt.rcParams['figure.figsize'] = (X*sz_x, Y*sz_y)\n",
    "    fig, axes = plt.subplots(Y, X)\n",
    "    return fig, axes\n"
   ]
  },
  {
   "cell_type": "code",
   "execution_count": 3,
   "metadata": {
    "collapsed": false,
    "jupyter": {
     "outputs_hidden": false
    }
   },
   "outputs": [
    {
     "name": "stdout",
     "output_type": "stream",
     "text": [
      "loading annotations into memory...\n",
      "Done (t=3.31s)\n",
      "creating index...\n",
      "index created!\n"
     ]
    }
   ],
   "source": [
    "# Load COCO annotations for V-COCO images\n",
    "coco = vu.load_coco()\n",
    "\n",
    "# Load the VCOCO annotations for vcoco_train image set\n",
    "vcoco_all = vu.load_vcoco('vcoco_train')\n",
    "for x in vcoco_all:\n",
    "    x = vu.attach_gt_boxes(x, coco)"
   ]
  },
  {
   "cell_type": "code",
   "execution_count": 4,
   "metadata": {
    "tags": []
   },
   "outputs": [
    {
     "name": "stdout",
     "output_type": "stream",
     "text": [
      "                hold ['agent', 'obj']\n",
      "               stand ['agent']\n",
      "                 sit ['agent', 'instr']\n",
      "                ride ['agent', 'instr']\n",
      "                walk ['agent']\n",
      "                look ['agent', 'obj']\n",
      "                 hit ['agent', 'instr', 'obj']\n",
      "                 eat ['agent', 'obj', 'instr']\n",
      "                jump ['agent', 'instr']\n",
      "                 lay ['agent', 'instr']\n",
      "       talk_on_phone ['agent', 'instr']\n",
      "               carry ['agent', 'obj']\n",
      "               throw ['agent', 'obj']\n",
      "               catch ['agent', 'obj']\n",
      "                 cut ['agent', 'instr', 'obj']\n",
      "                 run ['agent']\n",
      "    work_on_computer ['agent', 'instr']\n",
      "                 ski ['agent', 'instr']\n",
      "                surf ['agent', 'instr']\n",
      "          skateboard ['agent', 'instr']\n",
      "               smile ['agent']\n",
      "               drink ['agent', 'instr']\n",
      "                kick ['agent', 'obj']\n",
      "               point ['agent', 'instr']\n",
      "                read ['agent', 'obj']\n",
      "           snowboard ['agent', 'instr']\n"
     ]
    }
   ],
   "source": [
    "# Action classes and roles in V-COCO\n",
    "classes = [x['action_name'] for x in vcoco_all]\n",
    "for i, x in enumerate(vcoco_all):\n",
    "    print('{:>20s}'.format(x['action_name']), x['role_name'])\n"
   ]
  },
  {
   "cell_type": "code",
   "execution_count": 5,
   "metadata": {
    "collapsed": false,
    "jupyter": {
     "outputs_hidden": false
    }
   },
   "outputs": [],
   "source": [
    "labels = [x['label'] for x in vcoco_all]\n",
    "\n",
    "# the demo here laods images from the COCO website, \n",
    "# you can alternatively use your own local folder of COCO images.\n",
    "load_coco_image_from_web = True\n",
    "if load_coco_image_from_web:\n",
    "    from PIL import Image\n",
    "    import requests\n",
    "    from io import BytesIO"
   ]
  },
  {
   "cell_type": "code",
   "execution_count": 6,
   "metadata": {},
   "outputs": [],
   "source": [
    "import ipywidgets as widgets\n",
    "from ipywidgets import Layout, HBox\n",
    "from IPython.display import display\n",
    "\n",
    "inst_index = 0\n",
    "all_inst = []\n",
    "index = 0\n",
    "positive_index = []\n",
    "\n",
    "\n",
    "out = widgets.Output()\n",
    "\n",
    "action = widgets.SelectMultiple(\n",
    "    options = classes,\n",
    "    value = ['hold', 'stand', 'sit', 'ride', 'walk', 'look', 'hit', 'eat', 'jump', 'lay', 'talk_on_phone', 'carry', 'throw', 'catch', 'cut', 'run', 'work_on_computer', 'ski', 'surf', 'skateboard', 'smile', 'drink', 'kick', 'point', 'read', 'snowboard'],\n",
    "    description='action_name',\n",
    "    disabled=False,\n",
    "    layout = Layout(width='50%', height='160px', display='flex')\n",
    ")\n",
    "\n",
    "all_on_one_img = widgets.Checkbox(\n",
    "    value=False,\n",
    "    description='All actions on one instance',\n",
    "    disabled=False,\n",
    "    indent=False\n",
    ")\n",
    "\n",
    "search_button = widgets.Button(\n",
    "    value=False,\n",
    "    description='Search',\n",
    "    disabled=False,\n",
    "    layout=Layout(width='20%', height='40px')\n",
    ")\n",
    "\n",
    "@out.capture()\n",
    "def search_button_click(b):\n",
    "    out.clear_output()\n",
    "    global positive_index\n",
    "    global index\n",
    "    index = 0\n",
    "    positive_index  = list(search(list(action.value), all_on_one_img.value))\n",
    "    if len(positive_index) > 0:\n",
    "        print(str(len(positive_index)) + ' results.')\n",
    "        get_all_instances()\n",
    "        display_img(positive_index[0])\n",
    "    else:\n",
    "        print('No results.')\n",
    "    \n",
    "search_button.on_click(search_button_click)\n",
    "\n",
    "next_instance_button = widgets.Button(\n",
    "    value=False,\n",
    "    description='Next human instace',\n",
    "    disabled=False,\n",
    "    layout=Layout(width='20%', height='40px')\n",
    ")\n",
    "\n",
    "@out.capture()\n",
    "def next_inst_button_click(b):\n",
    "    out.clear_output()\n",
    "    global all_inst\n",
    "    if len(all_inst) == 0:\n",
    "        return\n",
    "    global inst_index\n",
    "    inst_index = inst_index + 1\n",
    "    if inst_index >= len(all_inst):\n",
    "        inst_index = 0\n",
    "    display_img(all_inst[inst_index])\n",
    "\n",
    "next_instance_button.on_click(next_inst_button_click)\n",
    "\n",
    "prev_instance_button = widgets.Button(\n",
    "    value=False,\n",
    "    description='Previous human instance',\n",
    "    disabled=False,\n",
    "    layout=Layout(width='20%', height='40px')\n",
    ")\n",
    "\n",
    "@out.capture()\n",
    "def prev_inst_button_click(b):\n",
    "    out.clear_output()\n",
    "    global all_inst\n",
    "    if len(all_inst) == 0:\n",
    "        return\n",
    "    global inst_index\n",
    "    inst_index = inst_index - 1\n",
    "    if inst_index < 0:\n",
    "        inst_index = len(all_inst) - 1\n",
    "    display_img(all_inst[inst_index])\n",
    "\n",
    "prev_instance_button.on_click(prev_inst_button_click)\n",
    "\n",
    "next_img_button = widgets.Button(\n",
    "    value=False,\n",
    "    description='Next image',\n",
    "    disabled=False,\n",
    "    layout=Layout(width='20%', height='40px')\n",
    ")\n",
    "\n",
    "@out.capture()\n",
    "def next_img_button_click(b):\n",
    "    out.clear_output()\n",
    "    global positive_index\n",
    "    if len(positive_index) == 0:\n",
    "        return\n",
    "    global index\n",
    "    index = index + 1\n",
    "    if index >= len(positive_index):\n",
    "        index = 0        \n",
    "    get_all_instances()\n",
    "    display_img(positive_index[index])\n",
    "\n",
    "next_img_button.on_click(next_img_button_click)\n",
    "\n",
    "prev_img_button = widgets.Button(\n",
    "    value=False,\n",
    "    description='Previous image',\n",
    "    disabled=False,\n",
    "    layout=Layout(width='20%', height='40px')\n",
    ")\n",
    "\n",
    "@out.capture()\n",
    "def prev_img_button_click(b):\n",
    "    out.clear_output()\n",
    "    global positive_index\n",
    "    if len(positive_index) == 0:\n",
    "        return\n",
    "    global index\n",
    "    index = index - 1\n",
    "    if index < 0:\n",
    "        index = len(positive_index) - 1  \n",
    "    get_all_instances()\n",
    "    display_img(positive_index[index])\n",
    "    \n",
    "\n",
    "prev_img_button.on_click(prev_img_button_click)\n",
    "\n",
    "@out.capture()\n",
    "def get_all_instances():\n",
    "    global inst_index\n",
    "    inst_index = 0\n",
    "    global all_inst\n",
    "    img_id = [vcoco_all[0]['image_id'][int(positive_index[index])][0]]\n",
    "    all_inst  = search_by_id(img_id[0])\n",
    "    print('Instances on image: ' + str(len(all_inst)))\n",
    "    "
   ]
  },
  {
   "cell_type": "code",
   "execution_count": 7,
   "metadata": {},
   "outputs": [],
   "source": [
    "\n",
    "def search(classes_list, all_on_one_img):\n",
    "    classes = [x['action_name'] for x in vcoco_all]\n",
    "    res = []\n",
    "    img_ids = []\n",
    "    for x in classes_list:\n",
    "        cls_id = classes.index(x)\n",
    "        vcoco = vcoco_all[cls_id]\n",
    "        positive_index = np.where(vcoco['label'] == 1)[0]       \n",
    "        if all_on_one_img:\n",
    "            if len(img_ids) == 0:\n",
    "                img_ids = positive_index\n",
    "            else:\n",
    "                ids_copy = img_ids.copy()\n",
    "                img_ids = []\n",
    "                for img_id in positive_index:\n",
    "                    if img_id in ids_copy:\n",
    "                        img_ids = np.append(img_ids, img_id)\n",
    "        else:\n",
    "            img_ids = np.append(img_ids, positive_index) \n",
    "    res = img_ids\n",
    "    res = list(np.unique(res))\n",
    "    return res\n",
    " \n",
    "def search_by_id(img_id):\n",
    "    img_id = int(img_id)\n",
    "    res = np.where(vcoco_all[0]['image_id'] == img_id)[0]\n",
    "    return res\n",
    "\n",
    "@out.capture()\n",
    "def display_img(id):\n",
    "    \n",
    "    id = int(id)\n",
    "    cc = plt.get_cmap('hsv', lut=4)\n",
    "    print('Image_id: ' + str([vcoco_all[0]['image_id'][id][0]]))\n",
    "    print('')\n",
    "    \n",
    "    actions = []\n",
    "    \n",
    "    for j in range(26):\n",
    "        if labels[j][id] == 1:\n",
    "            print('Action: ' + classes[j] + ' ')           \n",
    "            actions = np.append(actions, classes[j])\n",
    "            print('Role name: ' + ', '.join(vcoco_all[j]['role_name']))      \n",
    "            \n",
    "            for k in range(len(vcoco_all[j]['role_name'])):\n",
    "                if len(vcoco_all[j]['include'][k]):\n",
    "                    print('Possible ' + vcoco_all[j]['role_name'][k] + ':')\n",
    "                    print(vcoco_all[j]['include'][k])\n",
    "            print('')\n",
    "    #print('Instance\\'s actions: ' + ', '.join(actions))\n",
    "    # load image\n",
    "    coco_image = coco.loadImgs(ids=[vcoco_all[0]['image_id'][id][0]])[0]\n",
    "\n",
    "    if load_coco_image_from_web:\n",
    "        coco_url = coco_image.get('coco_url')\n",
    "        response = requests.get(coco_url)\n",
    "        im = Image.open(BytesIO(response.content))           \n",
    "        \n",
    "    with out:\n",
    "        sy = 4.; sx = float(np.shape(im)[1])/float(np.shape(im)[0])*sy;\n",
    "        fig, ax = subplot(plt, (1,1), (sy,sx)); ax.set_axis_off(); \n",
    "\n",
    "        ax.imshow(im)\n",
    "\n",
    "        # draw bounding box for agent\n",
    "        draw_bbox(plt, ax, vcoco_all[0]['bbox'][[id],:], edgecolor=cc(0)[:3])\n",
    "        role_bbox = vcoco_all[0]['role_bbox'][id,:]*1.\n",
    "        role_bbox = role_bbox.reshape((-1,4))\n",
    "        for j in range(1, len(vcoco_all[0]['role_name'])):\n",
    "            if not np.isnan(role_bbox[j,0]):\n",
    "                draw_bbox(plt, ax, role_bbox[[j],:], edgecolor=cc(j)[:3])\n",
    "        plt.show(fig)"
   ]
  },
  {
   "cell_type": "code",
   "execution_count": 8,
   "metadata": {},
   "outputs": [
    {
     "data": {
      "application/vnd.jupyter.widget-view+json": {
       "model_id": "8345b6c2604a446aa7af6cd8850a041f",
       "version_major": 2,
       "version_minor": 0
      },
      "text/plain": [
       "HBox(children=(SelectMultiple(description='action_name', index=(0, 1, 2, 3, 4, 5, 6, 7, 8, 9, 10, 11, 12, 13, …"
      ]
     },
     "metadata": {},
     "output_type": "display_data"
    },
    {
     "data": {
      "application/vnd.jupyter.widget-view+json": {
       "model_id": "82c88cade6c94f68a27fe9bdddba71f4",
       "version_major": 2,
       "version_minor": 0
      },
      "text/plain": [
       "HBox(children=(Button(description='Next image', layout=Layout(height='40px', width='20%'), style=ButtonStyle()…"
      ]
     },
     "metadata": {},
     "output_type": "display_data"
    },
    {
     "data": {
      "application/vnd.jupyter.widget-view+json": {
       "model_id": "9dcbaded3c9f414e8f57fae56ea63c3e",
       "version_major": 2,
       "version_minor": 0
      },
      "text/plain": [
       "Button(description='Search', layout=Layout(height='40px', width='20%'), style=ButtonStyle())"
      ]
     },
     "metadata": {},
     "output_type": "display_data"
    },
    {
     "data": {
      "application/vnd.jupyter.widget-view+json": {
       "model_id": "f15532ca34b94ea989cb33b1b11ccdba",
       "version_major": 2,
       "version_minor": 0
      },
      "text/plain": [
       "Output()"
      ]
     },
     "metadata": {},
     "output_type": "display_data"
    }
   ],
   "source": [
    "display(HBox([action, all_on_one_img]))\n",
    "display(HBox([next_img_button, prev_img_button, next_instance_button, prev_instance_button]))\n",
    "display(search_button)\n",
    "\n",
    "display(out)"
   ]
  },
  {
   "cell_type": "code",
   "execution_count": null,
   "metadata": {},
   "outputs": [],
   "source": []
  }
 ],
 "metadata": {
  "kernelspec": {
   "display_name": "Python 3 (ipykernel)",
   "language": "python",
   "name": "python3"
  },
  "language_info": {
   "codemirror_mode": {
    "name": "ipython",
    "version": 3
   },
   "file_extension": ".py",
   "mimetype": "text/x-python",
   "name": "python",
   "nbconvert_exporter": "python",
   "pygments_lexer": "ipython3",
   "version": "3.9.7"
  }
 },
 "nbformat": 4,
 "nbformat_minor": 4
}
